{
 "cells": [
  {
   "cell_type": "markdown",
   "metadata": {},
   "source": [
    "# 二分查找、二分边界查找算法的模板代码总结\n",
    "\n",
    "## 要联想到二分查找的情况\n",
    "* 待查找的数组有序或部分有序时\n",
    "* 要求时间复杂度低于O(n),或者直接要求时间复杂度为O(logn)。(因为二分查找可以达到O(logn)的时间复杂度)\n",
    "\n",
    "## 二分查找及其变体\n",
    "1. 标准的二分查找\n",
    "2. 二分查找左边界\n",
    "3. 二分查找右边界\n",
    "4. 二分查找左右边界\n",
    "5. 二分查找极值点"
   ]
  },
  {
   "cell_type": "markdown",
   "metadata": {},
   "source": [
    "<!--\n",
    " * @FileName: Do not edit\n",
    " * @Author: TTrravis 1224755884@qq.com\n",
    " * @Date: 2022-09-06 21:45:36\n",
    " * @LastEditors: TTrravis 1224755884@qq.com\n",
    " * @LastEditTime: 2022-09-06 23:16:55\n",
    " * @Description: \n",
    " * \n",
    " * Copyright (c) 2022 by TTrravis 1224755884@qq.com, All Rights Reserved. \n",
    "-->\n",
    "```C++\n",
    "//标准二分查找\n",
    "class BinarySearch {\n",
    "    public int search(int[] nums, int target){\n",
    "        // 初始化左右指针\n",
    "        int left = 0; \n",
    "        int right = nums.length -1;\n",
    "        while (left<=right){\n",
    "            int mid = left + ((right-left)>>1);\n",
    "            if (nums[mid]==target) return mid;\n",
    "            else if (nums[mid]>target){\n",
    "                right=mid-1;\n",
    "            }else{\n",
    "                left=mid+1;\n",
    "            }\n",
    "        }\n",
    "        return -1;\n",
    "    }\n",
    "\n",
    "}\n",
    "```"
   ]
  }
 ],
 "metadata": {
  "kernelspec": {
   "display_name": "Python 3.10.6 64-bit (microsoft store)",
   "language": "python",
   "name": "python3"
  },
  "language_info": {
   "name": "python",
   "version": "3.10.7"
  },
  "orig_nbformat": 4,
  "vscode": {
   "interpreter": {
    "hash": "3b8cf3502c03cc30bf28ce722ffe1f4731af194e0f3ab2d0e374d11b9a1ef90b"
   }
  }
 },
 "nbformat": 4,
 "nbformat_minor": 2
}
